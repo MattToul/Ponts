{
 "cells": [
  {
   "cell_type": "code",
   "execution_count": 1,
   "metadata": {
    "collapsed": false
   },
   "outputs": [],
   "source": [
    "import numpy as np\n",
    "import matplotlib.pyplot as plt\n",
    "import seaborn\n",
    "%matplotlib inline\n",
    "from tools import *"
   ]
  },
  {
   "cell_type": "code",
   "execution_count": 109,
   "metadata": {
    "collapsed": false
   },
   "outputs": [],
   "source": [
    "class tree:\n",
    "    def __init__(self,max_depth=5,min_el=5):\n",
    "        self.max_depth = max_depth\n",
    "        self.min_el = min_el\n",
    "        self.t = {}\n",
    "\n",
    "    def split(self,data,labels,depth,sub_list_id):\n",
    "        \"\"\" GREEDY BUILD sur le sous-problème (data[sub_list_id], labels[sub_list_id])\n",
    "            data.shape = (n,d) \n",
    "            labels.shape = (n,{-1,1}) \"\"\"\n",
    "        \n",
    "        if (depth==self.max_depth):\n",
    "            # critère d'arrêt profondeur\n",
    "            if (np.average(labels[sub_list_id]) > 0):\n",
    "                return {\"p\":-1,\"val\":1}\n",
    "            return {\"p\":-1,\"val\":-1}\n",
    "        \n",
    "        # minimisation (quadratique)\n",
    "        min_split = float('inf')\n",
    "        min_split_p = 0  # id du point de data où on coupe\n",
    "        min_split_d = 0  # dimension selon laquelle on coupe\n",
    "        \n",
    "        for d in range(data.shape[1]):\n",
    "            for p in sub_list_id:\n",
    "                left = []\n",
    "                right = []\n",
    "                for q in sub_list_id:\n",
    "                    if (data[q,d] <= data[p,d]):\n",
    "                        left.append(q)\n",
    "                    else:\n",
    "                        right.append(q)\n",
    "                \n",
    "                # calcul impureté du split\n",
    "                n_left = len(left)\n",
    "                n_right = len(right)\n",
    "                p_left = np.sum(labels[left]==1)/n_left\n",
    "                p_right = np.sum(labels[right]==1)/n_right\n",
    "                Qm = n_left*p_left*(1-p_left) + n_right*p_right*(1-p_right)\n",
    "                \n",
    "                if Qm < min_split:\n",
    "                    min_split = Qm\n",
    "                    min_split_p = p\n",
    "                    min_split_d = d\n",
    "        \n",
    "        # ajout pour la coupe trouvée, je ne l'ai pas fait dans la minimisation pour\n",
    "        # ne pas faire trop de copie de listes\n",
    "        left = []\n",
    "        right = []\n",
    "        for q in sub_list_id:\n",
    "            if (data[q,min_split_d] <= data[min_split_p,min_split_d]):\n",
    "                left.append(q)\n",
    "            else:\n",
    "                right.append(q)\n",
    "        \n",
    "        # ajout dans la structure d'arbre\n",
    "        if min(len(left),len(right)) <= self.min_el:\n",
    "            # classe pure\n",
    "            if (np.average(labels[sub_list_id]) > 0):\n",
    "                return {\"p\":-1,\"val\":1}\n",
    "            return {\"p\":-1,\"val\":-1}\n",
    "        elif min(len(left),len(right)) <= self.min_el :\n",
    "            # critère d'arrêt sur sous-nombre de représentant d'une classe\n",
    "            if (np.average(labels[sub_list_id]) > 0):\n",
    "                return {\"p\":-1,\"val\":1}\n",
    "            return {\"p\":-1,\"val\":-1}\n",
    "        else:\n",
    "            return {\"p\":data[min_split_p][min_split_d],\n",
    "                    \"d\":min_split_d,\n",
    "                    \"left\":self.split(data,labels,depth+1,left),\n",
    "                    \"right\":self.split(data,labels,depth+1,right)}\n",
    "    \n",
    "    def build(self,data,labels):\n",
    "        self.t = self.split(data,labels,0,range(data.shape[0]))\n",
    "    \n",
    "    def predict(self,p):\n",
    "        current_node = self.t\n",
    "        search = True\n",
    "        while current_node[\"p\"] != -1:\n",
    "            if p[current_node[\"d\"]] <= current_node[\"p\"]:\n",
    "                current_node = current_node[\"left\"]\n",
    "            else:\n",
    "                current_node = current_node[\"right\"]\n",
    "        return current_node[\"val\"]\n",
    "    \n",
    "    def plot(self,step=20):\n",
    "        grid,x,y = make_grid(step=step)\n",
    "        h = np.zeros(len(grid[:,0]))\n",
    "        l = np.shape(x)[0]\n",
    "        x = x.reshape((-1,1))\n",
    "        y = y.reshape((-1,1))\n",
    "        for i in range(len(h)):\n",
    "            h[i] = self.predict([x[i],y[i]])\n",
    "        plt.matshow(h.reshape((l,-1)),cmap='plasma')\n",
    "        plt.axis('off')\n",
    "    \n",
    "        "
   ]
  },
  {
   "cell_type": "code",
   "execution_count": 115,
   "metadata": {
    "collapsed": false,
    "scrolled": false
   },
   "outputs": [
    {
     "data": {
      "image/png": "[encoded data removed]",
      "text/plain": [
       "<matplotlib.figure.Figure at 0x11f389310>"
      ]
     },
     "metadata": {},
     "output_type": "display_data"
    },
    {
     "data": {
      "text/plain": [
       "<matplotlib.figure.Figure at 0x11e4158d0>"
      ]
     },
     "metadata": {},
     "output_type": "display_data"
    },
    {
     "data": {
      "image/png": "[encoded data removed]",
      "text/plain": [
       "<matplotlib.figure.Figure at 0x11edfc590>"
      ]
     },
     "metadata": {},
     "output_type": "display_data"
    }
   ],
   "source": [
    "x,y = gen_arti(sigma=0.5,nbex=500,data_type=0)\n",
    "plot_data(x,y)\n",
    "\n",
    "t = tree(max_depth=3)\n",
    "t.build(x,y)\n",
    "\n",
    "plt.figure()\n",
    "t.plot(step=100)"
   ]
  },
  {
   "cell_type": "code",
   "execution_count": 116,
   "metadata": {
    "collapsed": false
   },
   "outputs": [
    {
     "data": {
      "text/plain": [
       "{'d': 0,\n",
       " 'left': {'p': -1, 'val': -1},\n",
       " 'p': 1.3926365409653265,\n",
       " 'right': {'d': 0,\n",
       "  'left': {'p': -1, 'val': 1},\n",
       "  'p': 1.6465424414407446,\n",
       "  'right': {'p': -1, 'val': 1}}}"
      ]
     },
     "execution_count": 116,
     "metadata": {},
     "output_type": "execute_result"
    }
   ],
   "source": [
    "t.t"
   ]
  },
  {
   "cell_type": "code",
   "execution_count": null,
   "metadata": {
    "collapsed": true
   },
   "outputs": [],
   "source": []
  }
 ],
 "metadata": {
  "kernelspec": {
   "display_name": "Python 2",
   "language": "python",
   "name": "python2"
  },
  "language_info": {
   "codemirror_mode": {
    "name": "ipython",
    "version": 2
   },
   "file_extension": ".py",
   "mimetype": "text/x-python",
   "name": "python",
   "nbconvert_exporter": "python",
   "pygments_lexer": "ipython2",
   "version": "2.7.12"
  }
 },
 "nbformat": 4,
 "nbformat_minor": 0
}
