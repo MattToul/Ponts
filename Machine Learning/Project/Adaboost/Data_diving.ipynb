{
 "cells": [
  {
   "cell_type": "code",
   "execution_count": 1,
   "metadata": {
    "collapsed": false,
    "deletable": true,
    "editable": true
   },
   "outputs": [],
   "source": [
    "% matplotlib inline\n",
    "import numpy as np\n",
    "import pandas as pd\n",
    "import matplotlib.pyplot as plt\n",
    "import re\n",
    "\n",
    "# Apprentissage\n",
    "from sklearn.tree import DecisionTreeClassifier\n",
    "from sklearn.linear_model import SGDClassifier\n",
    "from sklearn.ensemble import AdaBoostClassifier\n",
    "from sklearn.metrics import accuracy_score\n",
    "\n",
    "\n",
    "# Evaluation des algorithmes\n",
    "from sklearn.model_selection import cross_val_score\n",
    "from sklearn.metrics import precision_score\n",
    "from sklearn.metrics import f1_score\n",
    "from sklearn.metrics import recall_score\n",
    "\n",
    "import tools"
   ]
  },
  {
   "cell_type": "code",
   "execution_count": 45,
   "metadata": {
    "collapsed": false
   },
   "outputs": [
    {
     "data": {
      "text/plain": [
       "{'age': {},\n",
       " 'capital-gain': {},\n",
       " 'capital-loss': {},\n",
       " 'education': {'10th': 12,\n",
       "  '11th': 2,\n",
       "  '12th': 9,\n",
       "  '1st-4th': 11,\n",
       "  '5th-6th': 14,\n",
       "  '7th-8th': 8,\n",
       "  '9th': 7,\n",
       "  'Assoc-acdm': 5,\n",
       "  'Assoc-voc': 6,\n",
       "  'Bachelors': 0,\n",
       "  'Doctorate': 13,\n",
       "  'HS-grad': 3,\n",
       "  'Masters': 10,\n",
       "  'Preschool': 15,\n",
       "  'Prof-school': 4,\n",
       "  'Some-college': 1},\n",
       " 'education-num': {},\n",
       " 'fnlwgt': {},\n",
       " 'hours-per-week': {},\n",
       " 'marital-status': {'Divorced': 1,\n",
       "  'Married-AF-spouse': 6,\n",
       "  'Married-civ-spouse': 0,\n",
       "  'Married-spouse-absent': 5,\n",
       "  'Never-married': 2,\n",
       "  'Separated': 3,\n",
       "  'Widowed': 4},\n",
       " 'native-country': {'Cambodia': 1,\n",
       "  'Canada': 4,\n",
       "  'China': 11,\n",
       "  'Columbia': 29,\n",
       "  'Cuba': 12,\n",
       "  'Dominican-Republic': 24,\n",
       "  'Ecuador': 26,\n",
       "  'El-Salvador': 36,\n",
       "  'England': 2,\n",
       "  'France': 23,\n",
       "  'Germany': 5,\n",
       "  'Greece': 9,\n",
       "  'Guatemala': 31,\n",
       "  'Haiti': 28,\n",
       "  'Holand-Netherlands': 40,\n",
       "  'Honduras': 14,\n",
       "  'Hong': 39,\n",
       "  'Hungary': 30,\n",
       "  'India': 7,\n",
       "  'Iran': 13,\n",
       "  'Ireland': 22,\n",
       "  'Italy': 16,\n",
       "  'Jamaica': 18,\n",
       "  'Japan': 8,\n",
       "  'Laos': 25,\n",
       "  'Mexico': 20,\n",
       "  'Nicaragua': 32,\n",
       "  'Outlying-US(Guam-USVI-etc)': 6,\n",
       "  'Peru': 38,\n",
       "  'Philippines': 15,\n",
       "  'Poland': 17,\n",
       "  'Portugal': 21,\n",
       "  'Puerto-Rico': 3,\n",
       "  'Scotland': 33,\n",
       "  'South': 10,\n",
       "  'Taiwan': 27,\n",
       "  'Thailand': 34,\n",
       "  'Trinadad&Tobago': 37,\n",
       "  'United-States': 0,\n",
       "  'Vietnam': 19,\n",
       "  'Yugoslavia': 35},\n",
       " 'occupation': {'Adm-clerical': 8,\n",
       "  'Armed-Forces': 13,\n",
       "  'Craft-repair': 1,\n",
       "  'Exec-managerial': 4,\n",
       "  'Farming-fishing': 9,\n",
       "  'Handlers-cleaners': 6,\n",
       "  'Machine-op-inspct': 7,\n",
       "  'Other-service': 2,\n",
       "  'Priv-house-serv': 11,\n",
       "  'Prof-specialty': 5,\n",
       "  'Protective-serv': 12,\n",
       "  'Sales': 3,\n",
       "  'Tech-support': 0,\n",
       "  'Transport-moving': 10},\n",
       " 'race': {'Amer-Indian-Eskimo': 2,\n",
       "  'Asian-Pac-Islander': 1,\n",
       "  'Black': 4,\n",
       "  'Other': 3,\n",
       "  'White': 0},\n",
       " 'relationship': {'Husband': 2,\n",
       "  'Not-in-family': 3,\n",
       "  'Other-relative': 4,\n",
       "  'Own-child': 1,\n",
       "  'Unmarried': 5,\n",
       "  'Wife': 0},\n",
       " 'sex': {'Female': 0, 'Male': 1},\n",
       " 'workclass': {'Federal-gov': 3,\n",
       "  'Local-gov': 4,\n",
       "  'Never-worked': 7,\n",
       "  'Private': 0,\n",
       "  'Self-emp-inc': 2,\n",
       "  'Self-emp-not-inc': 1,\n",
       "  'State-gov': 5,\n",
       "  'Without-pay': 6}}"
      ]
     },
     "execution_count": 45,
     "metadata": {},
     "output_type": "execute_result"
    }
   ],
   "source": [
    "data_names"
   ]
  },
  {
   "cell_type": "code",
   "execution_count": 50,
   "metadata": {
    "collapsed": false,
    "deletable": true,
    "editable": true
   },
   "outputs": [],
   "source": [
    "# Loading the Data\n",
    "data = pd.read_csv('../data/adult/adult.data.txt', index_col = False, sep = \",\")\n",
    "\n",
    "# Preprocessing the Data\n",
    "\n",
    "data_names = {}\n",
    "counter= 0\n",
    "for c in data.columns:\n",
    "    with open('../data/adult/adult.names.txt') as f:\n",
    "        for line in f:\n",
    "            if c in line[:15] and counter < 15 and line[0] != \"|\":\n",
    "                cleaned = re.sub(\"[:.,]\", \" \", line).split()\n",
    "                if c not in data_names:\n",
    "                    data_names[c] = dict()\n",
    "                    i = 0\n",
    "                    if len(cleaned) > 2:\n",
    "                        #print(cleaned)\n",
    "                        #print(cleaned[1:])\n",
    "                        for cat in cleaned[1:]:\n",
    "                            data_names[c][cat] = i\n",
    "                            i += 1\n",
    "                counter += 1\n",
    "\n",
    "data = data[data.columns[:len(data.columns) - 1]]\n",
    "\n",
    "data['class'] = data['class'].apply(lambda x: 0 if x[1] == \"<\"  else 1)\n",
    "data['workclass'] = data['workclass'].apply(lambda x: re.sub(' ', '', x))\n",
    "data['education'] = data['education'].apply(lambda x: re.sub(' ', '', x))\n",
    "data['marital-status'] = data['marital-status'].apply(lambda x: re.sub(' ', '', x))\n",
    "data['occupation'] = data['occupation'].apply(lambda x: re.sub(' ', '', x))\n",
    "data['relationship'] = data['relationship'].apply(lambda x: re.sub(' ', '', x))\n",
    "data['race'] = data['race'].apply(lambda x: re.sub(' ', '', x))\n",
    "data['native-country'] = data['native-country'].apply(lambda x: re.sub(' ', '', x))\n",
    "data['sex'] = data['sex'].apply(lambda x: re.sub(' ', '', x))\n",
    "\n",
    "data['workclass'] = data['workclass'].apply(lambda x: data_names['workclass'][x] if x != \"?\" else 0)\n",
    "data['education'] = data['education'].apply(lambda x: data_names['education'][x]if x != \"?\" else 0)\n",
    "data['marital-status'] = data['marital-status'].apply(lambda x: data_names['marital-status'][x]if x != \"?\" else 0)\n",
    "data['occupation'] = data['occupation'].apply(lambda x: data_names['occupation'][x]if x != \"?\" else 0)\n",
    "data['relationship'] = data['relationship'].apply(lambda x: data_names['relationship'][x]if x != \"?\" else 0)\n",
    "data['race'] = data['race'].apply(lambda x: data_names['race'][x]if x != \"?\" else 0)\n",
    "data['native-country'] = data['native-country'].apply(lambda x: data_names['native-country'][x]if x != \"?\" else 0)\n",
    "data['sex'] = data['sex'].apply(lambda x: data_names['sex'][x]if x != \"?\" else 0)"
   ]
  },
  {
   "cell_type": "code",
   "execution_count": 60,
   "metadata": {
    "collapsed": true
   },
   "outputs": [],
   "source": [
    "# Train and test data\n",
    "L = len(data.columns)\n",
    "x = data[data.columns[:L-1]].values\n",
    "y = data['class'].values\n",
    "\n",
    "Ntrain = int(np.round(x.shape[0]*0.7))\n",
    "idx = np.random.permutation(range(x.shape[0]))\n",
    "\n",
    "xtrain = x[idx[:Ntrain],:]\n",
    "ytrain = y[idx[:Ntrain]]\n",
    "\n",
    "xtest = x[idx[Ntrain:],:]\n",
    "ytest = y[idx[Ntrain:]]"
   ]
  },
  {
   "cell_type": "code",
   "execution_count": 53,
   "metadata": {
    "collapsed": true,
    "deletable": true,
    "editable": true
   },
   "outputs": [],
   "source": [
    "clf = AdaBoostClassifier(DecisionTreeClassifier(max_depth = 4), n_estimators = 1000)"
   ]
  },
  {
   "cell_type": "code",
   "execution_count": 59,
   "metadata": {
    "collapsed": false
   },
   "outputs": [
    {
     "data": {
      "text/plain": [
       "AdaBoostClassifier(algorithm='SAMME.R',\n",
       "          base_estimator=DecisionTreeClassifier(class_weight=None, criterion='gini', max_depth=4,\n",
       "            max_features=None, max_leaf_nodes=None,\n",
       "            min_impurity_split=1e-07, min_samples_leaf=1,\n",
       "            min_samples_split=2, min_weight_fraction_leaf=0.0,\n",
       "            presort=False, random_state=None, splitter='best'),\n",
       "          learning_rate=1.0, n_estimators=1000, random_state=None)"
      ]
     },
     "execution_count": 59,
     "metadata": {},
     "output_type": "execute_result"
    }
   ],
   "source": [
    "clf.fit(xtrain, ytrain)"
   ]
  },
  {
   "cell_type": "code",
   "execution_count": 61,
   "metadata": {
    "collapsed": false
   },
   "outputs": [
    {
     "data": {
      "text/plain": [
       "0.94604832104832104"
      ]
     },
     "execution_count": 61,
     "metadata": {},
     "output_type": "execute_result"
    }
   ],
   "source": [
    "clf.score(xtest, ytest)"
   ]
  }
 ],
 "metadata": {
  "kernelspec": {
   "display_name": "Python 3",
   "language": "python",
   "name": "python3"
  },
  "language_info": {
   "codemirror_mode": {
    "name": "ipython",
    "version": 3
   },
   "file_extension": ".py",
   "mimetype": "text/x-python",
   "name": "python",
   "nbconvert_exporter": "python",
   "pygments_lexer": "ipython3",
   "version": "3.6.0"
  }
 },
 "nbformat": 4,
 "nbformat_minor": 2
}
